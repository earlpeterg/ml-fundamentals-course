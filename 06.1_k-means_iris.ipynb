{
  "cells": [
    {
      "cell_type": "code",
      "execution_count": 2,
      "metadata": {
        "colab": {
          "base_uri": "https://localhost:8080/",
          "height": 206
        },
        "id": "9_Rw34RLYigs",
        "outputId": "89d9e222-df02-471e-ab9f-7e242494af1d"
      },
      "outputs": [
        {
          "data": {
            "application/vnd.microsoft.datawrangler.viewer.v0+json": {
              "columns": [
                {
                  "name": "index",
                  "rawType": "int64",
                  "type": "integer"
                },
                {
                  "name": "sepal_length",
                  "rawType": "float64",
                  "type": "float"
                },
                {
                  "name": "sepal_width",
                  "rawType": "float64",
                  "type": "float"
                },
                {
                  "name": "petal_length",
                  "rawType": "float64",
                  "type": "float"
                },
                {
                  "name": "petal_width",
                  "rawType": "float64",
                  "type": "float"
                },
                {
                  "name": "class",
                  "rawType": "object",
                  "type": "string"
                }
              ],
              "conversionMethod": "pd.DataFrame",
              "ref": "4f95b544-32c1-4e01-8dbc-1de12a6df278",
              "rows": [
                [
                  "0",
                  "5.1",
                  "3.5",
                  "1.4",
                  "0.2",
                  "Iris-setosa"
                ],
                [
                  "1",
                  "4.9",
                  "3.0",
                  "1.4",
                  "0.2",
                  "Iris-setosa"
                ],
                [
                  "2",
                  "4.7",
                  "3.2",
                  "1.3",
                  "0.2",
                  "Iris-setosa"
                ],
                [
                  "3",
                  "4.6",
                  "3.1",
                  "1.5",
                  "0.2",
                  "Iris-setosa"
                ],
                [
                  "4",
                  "5.0",
                  "3.6",
                  "1.4",
                  "0.2",
                  "Iris-setosa"
                ]
              ],
              "shape": {
                "columns": 5,
                "rows": 5
              }
            },
            "text/html": [
              "<div>\n",
              "<style scoped>\n",
              "    .dataframe tbody tr th:only-of-type {\n",
              "        vertical-align: middle;\n",
              "    }\n",
              "\n",
              "    .dataframe tbody tr th {\n",
              "        vertical-align: top;\n",
              "    }\n",
              "\n",
              "    .dataframe thead th {\n",
              "        text-align: right;\n",
              "    }\n",
              "</style>\n",
              "<table border=\"1\" class=\"dataframe\">\n",
              "  <thead>\n",
              "    <tr style=\"text-align: right;\">\n",
              "      <th></th>\n",
              "      <th>sepal_length</th>\n",
              "      <th>sepal_width</th>\n",
              "      <th>petal_length</th>\n",
              "      <th>petal_width</th>\n",
              "      <th>class</th>\n",
              "    </tr>\n",
              "  </thead>\n",
              "  <tbody>\n",
              "    <tr>\n",
              "      <th>0</th>\n",
              "      <td>5.1</td>\n",
              "      <td>3.5</td>\n",
              "      <td>1.4</td>\n",
              "      <td>0.2</td>\n",
              "      <td>Iris-setosa</td>\n",
              "    </tr>\n",
              "    <tr>\n",
              "      <th>1</th>\n",
              "      <td>4.9</td>\n",
              "      <td>3.0</td>\n",
              "      <td>1.4</td>\n",
              "      <td>0.2</td>\n",
              "      <td>Iris-setosa</td>\n",
              "    </tr>\n",
              "    <tr>\n",
              "      <th>2</th>\n",
              "      <td>4.7</td>\n",
              "      <td>3.2</td>\n",
              "      <td>1.3</td>\n",
              "      <td>0.2</td>\n",
              "      <td>Iris-setosa</td>\n",
              "    </tr>\n",
              "    <tr>\n",
              "      <th>3</th>\n",
              "      <td>4.6</td>\n",
              "      <td>3.1</td>\n",
              "      <td>1.5</td>\n",
              "      <td>0.2</td>\n",
              "      <td>Iris-setosa</td>\n",
              "    </tr>\n",
              "    <tr>\n",
              "      <th>4</th>\n",
              "      <td>5.0</td>\n",
              "      <td>3.6</td>\n",
              "      <td>1.4</td>\n",
              "      <td>0.2</td>\n",
              "      <td>Iris-setosa</td>\n",
              "    </tr>\n",
              "  </tbody>\n",
              "</table>\n",
              "</div>"
            ],
            "text/plain": [
              "   sepal_length  sepal_width  petal_length  petal_width        class\n",
              "0           5.1          3.5           1.4          0.2  Iris-setosa\n",
              "1           4.9          3.0           1.4          0.2  Iris-setosa\n",
              "2           4.7          3.2           1.3          0.2  Iris-setosa\n",
              "3           4.6          3.1           1.5          0.2  Iris-setosa\n",
              "4           5.0          3.6           1.4          0.2  Iris-setosa"
            ]
          },
          "execution_count": 2,
          "metadata": {},
          "output_type": "execute_result"
        }
      ],
      "source": [
        "import pandas as pd\n",
        "\n",
        "# Reads and displays the dataset\n",
        "df = pd.read_csv(\"datasets/iris.csv\")\n",
        "df.head(5)"
      ]
    },
    {
      "cell_type": "code",
      "execution_count": 4,
      "metadata": {
        "colab": {
          "base_uri": "https://localhost:8080/",
          "height": 206
        },
        "id": "Ptnaxj_6Zr_N",
        "outputId": "23a96f72-69e3-49c2-b830-723c30678ae5"
      },
      "outputs": [
        {
          "data": {
            "application/vnd.microsoft.datawrangler.viewer.v0+json": {
              "columns": [
                {
                  "name": "index",
                  "rawType": "int64",
                  "type": "integer"
                },
                {
                  "name": "sepal_length",
                  "rawType": "float64",
                  "type": "float"
                },
                {
                  "name": "sepal_width",
                  "rawType": "float64",
                  "type": "float"
                },
                {
                  "name": "petal_length",
                  "rawType": "float64",
                  "type": "float"
                },
                {
                  "name": "petal_width",
                  "rawType": "float64",
                  "type": "float"
                }
              ],
              "conversionMethod": "pd.DataFrame",
              "ref": "d9ea1822-9879-477a-8dad-f3a5302d33ea",
              "rows": [
                [
                  "0",
                  "5.1",
                  "3.5",
                  "1.4",
                  "0.2"
                ],
                [
                  "1",
                  "4.9",
                  "3.0",
                  "1.4",
                  "0.2"
                ],
                [
                  "2",
                  "4.7",
                  "3.2",
                  "1.3",
                  "0.2"
                ],
                [
                  "3",
                  "4.6",
                  "3.1",
                  "1.5",
                  "0.2"
                ],
                [
                  "4",
                  "5.0",
                  "3.6",
                  "1.4",
                  "0.2"
                ],
                [
                  "5",
                  "5.4",
                  "3.9",
                  "1.7",
                  "0.4"
                ],
                [
                  "6",
                  "4.6",
                  "3.4",
                  "1.4",
                  "0.3"
                ],
                [
                  "7",
                  "5.0",
                  "3.4",
                  "1.5",
                  "0.2"
                ],
                [
                  "8",
                  "4.4",
                  "2.9",
                  "1.4",
                  "0.2"
                ],
                [
                  "9",
                  "4.9",
                  "3.1",
                  "1.5",
                  "0.1"
                ],
                [
                  "10",
                  "5.4",
                  "3.7",
                  "1.5",
                  "0.2"
                ],
                [
                  "11",
                  "4.8",
                  "3.4",
                  "1.6",
                  "0.2"
                ],
                [
                  "12",
                  "4.8",
                  "3.0",
                  "1.4",
                  "0.1"
                ],
                [
                  "13",
                  "4.3",
                  "3.0",
                  "1.1",
                  "0.1"
                ],
                [
                  "14",
                  "5.8",
                  "4.0",
                  "1.2",
                  "0.2"
                ],
                [
                  "15",
                  "5.7",
                  "4.4",
                  "1.5",
                  "0.4"
                ],
                [
                  "16",
                  "5.4",
                  "3.9",
                  "1.3",
                  "0.4"
                ],
                [
                  "17",
                  "5.1",
                  "3.5",
                  "1.4",
                  "0.3"
                ],
                [
                  "18",
                  "5.7",
                  "3.8",
                  "1.7",
                  "0.3"
                ],
                [
                  "19",
                  "5.1",
                  "3.8",
                  "1.5",
                  "0.3"
                ],
                [
                  "20",
                  "5.4",
                  "3.4",
                  "1.7",
                  "0.2"
                ],
                [
                  "21",
                  "5.1",
                  "3.7",
                  "1.5",
                  "0.4"
                ],
                [
                  "22",
                  "4.6",
                  "3.6",
                  "1.0",
                  "0.2"
                ],
                [
                  "23",
                  "5.1",
                  "3.3",
                  "1.7",
                  "0.5"
                ],
                [
                  "24",
                  "4.8",
                  "3.4",
                  "1.9",
                  "0.2"
                ],
                [
                  "25",
                  "5.0",
                  "3.0",
                  "1.6",
                  "0.2"
                ],
                [
                  "26",
                  "5.0",
                  "3.4",
                  "1.6",
                  "0.4"
                ],
                [
                  "27",
                  "5.2",
                  "3.5",
                  "1.5",
                  "0.2"
                ],
                [
                  "28",
                  "5.2",
                  "3.4",
                  "1.4",
                  "0.2"
                ],
                [
                  "29",
                  "4.7",
                  "3.2",
                  "1.6",
                  "0.2"
                ],
                [
                  "30",
                  "4.8",
                  "3.1",
                  "1.6",
                  "0.2"
                ],
                [
                  "31",
                  "5.4",
                  "3.4",
                  "1.5",
                  "0.4"
                ],
                [
                  "32",
                  "5.2",
                  "4.1",
                  "1.5",
                  "0.1"
                ],
                [
                  "33",
                  "5.5",
                  "4.2",
                  "1.4",
                  "0.2"
                ],
                [
                  "34",
                  "4.9",
                  "3.1",
                  "1.5",
                  "0.1"
                ],
                [
                  "35",
                  "5.0",
                  "3.2",
                  "1.2",
                  "0.2"
                ],
                [
                  "36",
                  "5.5",
                  "3.5",
                  "1.3",
                  "0.2"
                ],
                [
                  "37",
                  "4.9",
                  "3.1",
                  "1.5",
                  "0.1"
                ],
                [
                  "38",
                  "4.4",
                  "3.0",
                  "1.3",
                  "0.2"
                ],
                [
                  "39",
                  "5.1",
                  "3.4",
                  "1.5",
                  "0.2"
                ],
                [
                  "40",
                  "5.0",
                  "3.5",
                  "1.3",
                  "0.3"
                ],
                [
                  "41",
                  "4.5",
                  "2.3",
                  "1.3",
                  "0.3"
                ],
                [
                  "42",
                  "4.4",
                  "3.2",
                  "1.3",
                  "0.2"
                ],
                [
                  "43",
                  "5.0",
                  "3.5",
                  "1.6",
                  "0.6"
                ],
                [
                  "44",
                  "5.1",
                  "3.8",
                  "1.9",
                  "0.4"
                ],
                [
                  "45",
                  "4.8",
                  "3.0",
                  "1.4",
                  "0.3"
                ],
                [
                  "46",
                  "5.1",
                  "3.8",
                  "1.6",
                  "0.2"
                ],
                [
                  "47",
                  "4.6",
                  "3.2",
                  "1.4",
                  "0.2"
                ],
                [
                  "48",
                  "5.3",
                  "3.7",
                  "1.5",
                  "0.2"
                ],
                [
                  "49",
                  "5.0",
                  "3.3",
                  "1.4",
                  "0.2"
                ]
              ],
              "shape": {
                "columns": 4,
                "rows": 150
              }
            },
            "text/html": [
              "<div>\n",
              "<style scoped>\n",
              "    .dataframe tbody tr th:only-of-type {\n",
              "        vertical-align: middle;\n",
              "    }\n",
              "\n",
              "    .dataframe tbody tr th {\n",
              "        vertical-align: top;\n",
              "    }\n",
              "\n",
              "    .dataframe thead th {\n",
              "        text-align: right;\n",
              "    }\n",
              "</style>\n",
              "<table border=\"1\" class=\"dataframe\">\n",
              "  <thead>\n",
              "    <tr style=\"text-align: right;\">\n",
              "      <th></th>\n",
              "      <th>sepal_length</th>\n",
              "      <th>sepal_width</th>\n",
              "      <th>petal_length</th>\n",
              "      <th>petal_width</th>\n",
              "    </tr>\n",
              "  </thead>\n",
              "  <tbody>\n",
              "    <tr>\n",
              "      <th>0</th>\n",
              "      <td>5.1</td>\n",
              "      <td>3.5</td>\n",
              "      <td>1.4</td>\n",
              "      <td>0.2</td>\n",
              "    </tr>\n",
              "    <tr>\n",
              "      <th>1</th>\n",
              "      <td>4.9</td>\n",
              "      <td>3.0</td>\n",
              "      <td>1.4</td>\n",
              "      <td>0.2</td>\n",
              "    </tr>\n",
              "    <tr>\n",
              "      <th>2</th>\n",
              "      <td>4.7</td>\n",
              "      <td>3.2</td>\n",
              "      <td>1.3</td>\n",
              "      <td>0.2</td>\n",
              "    </tr>\n",
              "    <tr>\n",
              "      <th>3</th>\n",
              "      <td>4.6</td>\n",
              "      <td>3.1</td>\n",
              "      <td>1.5</td>\n",
              "      <td>0.2</td>\n",
              "    </tr>\n",
              "    <tr>\n",
              "      <th>4</th>\n",
              "      <td>5.0</td>\n",
              "      <td>3.6</td>\n",
              "      <td>1.4</td>\n",
              "      <td>0.2</td>\n",
              "    </tr>\n",
              "    <tr>\n",
              "      <th>...</th>\n",
              "      <td>...</td>\n",
              "      <td>...</td>\n",
              "      <td>...</td>\n",
              "      <td>...</td>\n",
              "    </tr>\n",
              "    <tr>\n",
              "      <th>145</th>\n",
              "      <td>6.7</td>\n",
              "      <td>3.0</td>\n",
              "      <td>5.2</td>\n",
              "      <td>2.3</td>\n",
              "    </tr>\n",
              "    <tr>\n",
              "      <th>146</th>\n",
              "      <td>6.3</td>\n",
              "      <td>2.5</td>\n",
              "      <td>5.0</td>\n",
              "      <td>1.9</td>\n",
              "    </tr>\n",
              "    <tr>\n",
              "      <th>147</th>\n",
              "      <td>6.5</td>\n",
              "      <td>3.0</td>\n",
              "      <td>5.2</td>\n",
              "      <td>2.0</td>\n",
              "    </tr>\n",
              "    <tr>\n",
              "      <th>148</th>\n",
              "      <td>6.2</td>\n",
              "      <td>3.4</td>\n",
              "      <td>5.4</td>\n",
              "      <td>2.3</td>\n",
              "    </tr>\n",
              "    <tr>\n",
              "      <th>149</th>\n",
              "      <td>5.9</td>\n",
              "      <td>3.0</td>\n",
              "      <td>5.1</td>\n",
              "      <td>1.8</td>\n",
              "    </tr>\n",
              "  </tbody>\n",
              "</table>\n",
              "<p>150 rows × 4 columns</p>\n",
              "</div>"
            ],
            "text/plain": [
              "     sepal_length  sepal_width  petal_length  petal_width\n",
              "0             5.1          3.5           1.4          0.2\n",
              "1             4.9          3.0           1.4          0.2\n",
              "2             4.7          3.2           1.3          0.2\n",
              "3             4.6          3.1           1.5          0.2\n",
              "4             5.0          3.6           1.4          0.2\n",
              "..            ...          ...           ...          ...\n",
              "145           6.7          3.0           5.2          2.3\n",
              "146           6.3          2.5           5.0          1.9\n",
              "147           6.5          3.0           5.2          2.0\n",
              "148           6.2          3.4           5.4          2.3\n",
              "149           5.9          3.0           5.1          1.8\n",
              "\n",
              "[150 rows x 4 columns]"
            ]
          },
          "execution_count": 4,
          "metadata": {},
          "output_type": "execute_result"
        }
      ],
      "source": [
        "# Separates the features (X) from the target variable (class) in the df\n",
        "X = df.drop(columns=\"class\")\n",
        "X"
      ]
    },
    {
      "cell_type": "code",
      "execution_count": 5,
      "metadata": {
        "colab": {
          "base_uri": "https://localhost:8080/",
          "height": 129
        },
        "id": "LIPAcllaypj-",
        "outputId": "c4bac29e-71c0-4530-a787-947f6be7bbd3"
      },
      "outputs": [
        {
          "data": {
            "text/html": [
              "<style>#sk-container-id-1 {\n",
              "  /* Definition of color scheme common for light and dark mode */\n",
              "  --sklearn-color-text: black;\n",
              "  --sklearn-color-line: gray;\n",
              "  /* Definition of color scheme for unfitted estimators */\n",
              "  --sklearn-color-unfitted-level-0: #fff5e6;\n",
              "  --sklearn-color-unfitted-level-1: #f6e4d2;\n",
              "  --sklearn-color-unfitted-level-2: #ffe0b3;\n",
              "  --sklearn-color-unfitted-level-3: chocolate;\n",
              "  /* Definition of color scheme for fitted estimators */\n",
              "  --sklearn-color-fitted-level-0: #f0f8ff;\n",
              "  --sklearn-color-fitted-level-1: #d4ebff;\n",
              "  --sklearn-color-fitted-level-2: #b3dbfd;\n",
              "  --sklearn-color-fitted-level-3: cornflowerblue;\n",
              "\n",
              "  /* Specific color for light theme */\n",
              "  --sklearn-color-text-on-default-background: var(--sg-text-color, var(--theme-code-foreground, var(--jp-content-font-color1, black)));\n",
              "  --sklearn-color-background: var(--sg-background-color, var(--theme-background, var(--jp-layout-color0, white)));\n",
              "  --sklearn-color-border-box: var(--sg-text-color, var(--theme-code-foreground, var(--jp-content-font-color1, black)));\n",
              "  --sklearn-color-icon: #696969;\n",
              "\n",
              "  @media (prefers-color-scheme: dark) {\n",
              "    /* Redefinition of color scheme for dark theme */\n",
              "    --sklearn-color-text-on-default-background: var(--sg-text-color, var(--theme-code-foreground, var(--jp-content-font-color1, white)));\n",
              "    --sklearn-color-background: var(--sg-background-color, var(--theme-background, var(--jp-layout-color0, #111)));\n",
              "    --sklearn-color-border-box: var(--sg-text-color, var(--theme-code-foreground, var(--jp-content-font-color1, white)));\n",
              "    --sklearn-color-icon: #878787;\n",
              "  }\n",
              "}\n",
              "\n",
              "#sk-container-id-1 {\n",
              "  color: var(--sklearn-color-text);\n",
              "}\n",
              "\n",
              "#sk-container-id-1 pre {\n",
              "  padding: 0;\n",
              "}\n",
              "\n",
              "#sk-container-id-1 input.sk-hidden--visually {\n",
              "  border: 0;\n",
              "  clip: rect(1px 1px 1px 1px);\n",
              "  clip: rect(1px, 1px, 1px, 1px);\n",
              "  height: 1px;\n",
              "  margin: -1px;\n",
              "  overflow: hidden;\n",
              "  padding: 0;\n",
              "  position: absolute;\n",
              "  width: 1px;\n",
              "}\n",
              "\n",
              "#sk-container-id-1 div.sk-dashed-wrapped {\n",
              "  border: 1px dashed var(--sklearn-color-line);\n",
              "  margin: 0 0.4em 0.5em 0.4em;\n",
              "  box-sizing: border-box;\n",
              "  padding-bottom: 0.4em;\n",
              "  background-color: var(--sklearn-color-background);\n",
              "}\n",
              "\n",
              "#sk-container-id-1 div.sk-container {\n",
              "  /* jupyter's `normalize.less` sets `[hidden] { display: none; }`\n",
              "     but bootstrap.min.css set `[hidden] { display: none !important; }`\n",
              "     so we also need the `!important` here to be able to override the\n",
              "     default hidden behavior on the sphinx rendered scikit-learn.org.\n",
              "     See: https://github.com/scikit-learn/scikit-learn/issues/21755 */\n",
              "  display: inline-block !important;\n",
              "  position: relative;\n",
              "}\n",
              "\n",
              "#sk-container-id-1 div.sk-text-repr-fallback {\n",
              "  display: none;\n",
              "}\n",
              "\n",
              "div.sk-parallel-item,\n",
              "div.sk-serial,\n",
              "div.sk-item {\n",
              "  /* draw centered vertical line to link estimators */\n",
              "  background-image: linear-gradient(var(--sklearn-color-text-on-default-background), var(--sklearn-color-text-on-default-background));\n",
              "  background-size: 2px 100%;\n",
              "  background-repeat: no-repeat;\n",
              "  background-position: center center;\n",
              "}\n",
              "\n",
              "/* Parallel-specific style estimator block */\n",
              "\n",
              "#sk-container-id-1 div.sk-parallel-item::after {\n",
              "  content: \"\";\n",
              "  width: 100%;\n",
              "  border-bottom: 2px solid var(--sklearn-color-text-on-default-background);\n",
              "  flex-grow: 1;\n",
              "}\n",
              "\n",
              "#sk-container-id-1 div.sk-parallel {\n",
              "  display: flex;\n",
              "  align-items: stretch;\n",
              "  justify-content: center;\n",
              "  background-color: var(--sklearn-color-background);\n",
              "  position: relative;\n",
              "}\n",
              "\n",
              "#sk-container-id-1 div.sk-parallel-item {\n",
              "  display: flex;\n",
              "  flex-direction: column;\n",
              "}\n",
              "\n",
              "#sk-container-id-1 div.sk-parallel-item:first-child::after {\n",
              "  align-self: flex-end;\n",
              "  width: 50%;\n",
              "}\n",
              "\n",
              "#sk-container-id-1 div.sk-parallel-item:last-child::after {\n",
              "  align-self: flex-start;\n",
              "  width: 50%;\n",
              "}\n",
              "\n",
              "#sk-container-id-1 div.sk-parallel-item:only-child::after {\n",
              "  width: 0;\n",
              "}\n",
              "\n",
              "/* Serial-specific style estimator block */\n",
              "\n",
              "#sk-container-id-1 div.sk-serial {\n",
              "  display: flex;\n",
              "  flex-direction: column;\n",
              "  align-items: center;\n",
              "  background-color: var(--sklearn-color-background);\n",
              "  padding-right: 1em;\n",
              "  padding-left: 1em;\n",
              "}\n",
              "\n",
              "\n",
              "/* Toggleable style: style used for estimator/Pipeline/ColumnTransformer box that is\n",
              "clickable and can be expanded/collapsed.\n",
              "- Pipeline and ColumnTransformer use this feature and define the default style\n",
              "- Estimators will overwrite some part of the style using the `sk-estimator` class\n",
              "*/\n",
              "\n",
              "/* Pipeline and ColumnTransformer style (default) */\n",
              "\n",
              "#sk-container-id-1 div.sk-toggleable {\n",
              "  /* Default theme specific background. It is overwritten whether we have a\n",
              "  specific estimator or a Pipeline/ColumnTransformer */\n",
              "  background-color: var(--sklearn-color-background);\n",
              "}\n",
              "\n",
              "/* Toggleable label */\n",
              "#sk-container-id-1 label.sk-toggleable__label {\n",
              "  cursor: pointer;\n",
              "  display: block;\n",
              "  width: 100%;\n",
              "  margin-bottom: 0;\n",
              "  padding: 0.5em;\n",
              "  box-sizing: border-box;\n",
              "  text-align: center;\n",
              "}\n",
              "\n",
              "#sk-container-id-1 label.sk-toggleable__label-arrow:before {\n",
              "  /* Arrow on the left of the label */\n",
              "  content: \"▸\";\n",
              "  float: left;\n",
              "  margin-right: 0.25em;\n",
              "  color: var(--sklearn-color-icon);\n",
              "}\n",
              "\n",
              "#sk-container-id-1 label.sk-toggleable__label-arrow:hover:before {\n",
              "  color: var(--sklearn-color-text);\n",
              "}\n",
              "\n",
              "/* Toggleable content - dropdown */\n",
              "\n",
              "#sk-container-id-1 div.sk-toggleable__content {\n",
              "  max-height: 0;\n",
              "  max-width: 0;\n",
              "  overflow: hidden;\n",
              "  text-align: left;\n",
              "  /* unfitted */\n",
              "  background-color: var(--sklearn-color-unfitted-level-0);\n",
              "}\n",
              "\n",
              "#sk-container-id-1 div.sk-toggleable__content.fitted {\n",
              "  /* fitted */\n",
              "  background-color: var(--sklearn-color-fitted-level-0);\n",
              "}\n",
              "\n",
              "#sk-container-id-1 div.sk-toggleable__content pre {\n",
              "  margin: 0.2em;\n",
              "  border-radius: 0.25em;\n",
              "  color: var(--sklearn-color-text);\n",
              "  /* unfitted */\n",
              "  background-color: var(--sklearn-color-unfitted-level-0);\n",
              "}\n",
              "\n",
              "#sk-container-id-1 div.sk-toggleable__content.fitted pre {\n",
              "  /* unfitted */\n",
              "  background-color: var(--sklearn-color-fitted-level-0);\n",
              "}\n",
              "\n",
              "#sk-container-id-1 input.sk-toggleable__control:checked~div.sk-toggleable__content {\n",
              "  /* Expand drop-down */\n",
              "  max-height: 200px;\n",
              "  max-width: 100%;\n",
              "  overflow: auto;\n",
              "}\n",
              "\n",
              "#sk-container-id-1 input.sk-toggleable__control:checked~label.sk-toggleable__label-arrow:before {\n",
              "  content: \"▾\";\n",
              "}\n",
              "\n",
              "/* Pipeline/ColumnTransformer-specific style */\n",
              "\n",
              "#sk-container-id-1 div.sk-label input.sk-toggleable__control:checked~label.sk-toggleable__label {\n",
              "  color: var(--sklearn-color-text);\n",
              "  background-color: var(--sklearn-color-unfitted-level-2);\n",
              "}\n",
              "\n",
              "#sk-container-id-1 div.sk-label.fitted input.sk-toggleable__control:checked~label.sk-toggleable__label {\n",
              "  background-color: var(--sklearn-color-fitted-level-2);\n",
              "}\n",
              "\n",
              "/* Estimator-specific style */\n",
              "\n",
              "/* Colorize estimator box */\n",
              "#sk-container-id-1 div.sk-estimator input.sk-toggleable__control:checked~label.sk-toggleable__label {\n",
              "  /* unfitted */\n",
              "  background-color: var(--sklearn-color-unfitted-level-2);\n",
              "}\n",
              "\n",
              "#sk-container-id-1 div.sk-estimator.fitted input.sk-toggleable__control:checked~label.sk-toggleable__label {\n",
              "  /* fitted */\n",
              "  background-color: var(--sklearn-color-fitted-level-2);\n",
              "}\n",
              "\n",
              "#sk-container-id-1 div.sk-label label.sk-toggleable__label,\n",
              "#sk-container-id-1 div.sk-label label {\n",
              "  /* The background is the default theme color */\n",
              "  color: var(--sklearn-color-text-on-default-background);\n",
              "}\n",
              "\n",
              "/* On hover, darken the color of the background */\n",
              "#sk-container-id-1 div.sk-label:hover label.sk-toggleable__label {\n",
              "  color: var(--sklearn-color-text);\n",
              "  background-color: var(--sklearn-color-unfitted-level-2);\n",
              "}\n",
              "\n",
              "/* Label box, darken color on hover, fitted */\n",
              "#sk-container-id-1 div.sk-label.fitted:hover label.sk-toggleable__label.fitted {\n",
              "  color: var(--sklearn-color-text);\n",
              "  background-color: var(--sklearn-color-fitted-level-2);\n",
              "}\n",
              "\n",
              "/* Estimator label */\n",
              "\n",
              "#sk-container-id-1 div.sk-label label {\n",
              "  font-family: monospace;\n",
              "  font-weight: bold;\n",
              "  display: inline-block;\n",
              "  line-height: 1.2em;\n",
              "}\n",
              "\n",
              "#sk-container-id-1 div.sk-label-container {\n",
              "  text-align: center;\n",
              "}\n",
              "\n",
              "/* Estimator-specific */\n",
              "#sk-container-id-1 div.sk-estimator {\n",
              "  font-family: monospace;\n",
              "  border: 1px dotted var(--sklearn-color-border-box);\n",
              "  border-radius: 0.25em;\n",
              "  box-sizing: border-box;\n",
              "  margin-bottom: 0.5em;\n",
              "  /* unfitted */\n",
              "  background-color: var(--sklearn-color-unfitted-level-0);\n",
              "}\n",
              "\n",
              "#sk-container-id-1 div.sk-estimator.fitted {\n",
              "  /* fitted */\n",
              "  background-color: var(--sklearn-color-fitted-level-0);\n",
              "}\n",
              "\n",
              "/* on hover */\n",
              "#sk-container-id-1 div.sk-estimator:hover {\n",
              "  /* unfitted */\n",
              "  background-color: var(--sklearn-color-unfitted-level-2);\n",
              "}\n",
              "\n",
              "#sk-container-id-1 div.sk-estimator.fitted:hover {\n",
              "  /* fitted */\n",
              "  background-color: var(--sklearn-color-fitted-level-2);\n",
              "}\n",
              "\n",
              "/* Specification for estimator info (e.g. \"i\" and \"?\") */\n",
              "\n",
              "/* Common style for \"i\" and \"?\" */\n",
              "\n",
              ".sk-estimator-doc-link,\n",
              "a:link.sk-estimator-doc-link,\n",
              "a:visited.sk-estimator-doc-link {\n",
              "  float: right;\n",
              "  font-size: smaller;\n",
              "  line-height: 1em;\n",
              "  font-family: monospace;\n",
              "  background-color: var(--sklearn-color-background);\n",
              "  border-radius: 1em;\n",
              "  height: 1em;\n",
              "  width: 1em;\n",
              "  text-decoration: none !important;\n",
              "  margin-left: 1ex;\n",
              "  /* unfitted */\n",
              "  border: var(--sklearn-color-unfitted-level-1) 1pt solid;\n",
              "  color: var(--sklearn-color-unfitted-level-1);\n",
              "}\n",
              "\n",
              ".sk-estimator-doc-link.fitted,\n",
              "a:link.sk-estimator-doc-link.fitted,\n",
              "a:visited.sk-estimator-doc-link.fitted {\n",
              "  /* fitted */\n",
              "  border: var(--sklearn-color-fitted-level-1) 1pt solid;\n",
              "  color: var(--sklearn-color-fitted-level-1);\n",
              "}\n",
              "\n",
              "/* On hover */\n",
              "div.sk-estimator:hover .sk-estimator-doc-link:hover,\n",
              ".sk-estimator-doc-link:hover,\n",
              "div.sk-label-container:hover .sk-estimator-doc-link:hover,\n",
              ".sk-estimator-doc-link:hover {\n",
              "  /* unfitted */\n",
              "  background-color: var(--sklearn-color-unfitted-level-3);\n",
              "  color: var(--sklearn-color-background);\n",
              "  text-decoration: none;\n",
              "}\n",
              "\n",
              "div.sk-estimator.fitted:hover .sk-estimator-doc-link.fitted:hover,\n",
              ".sk-estimator-doc-link.fitted:hover,\n",
              "div.sk-label-container:hover .sk-estimator-doc-link.fitted:hover,\n",
              ".sk-estimator-doc-link.fitted:hover {\n",
              "  /* fitted */\n",
              "  background-color: var(--sklearn-color-fitted-level-3);\n",
              "  color: var(--sklearn-color-background);\n",
              "  text-decoration: none;\n",
              "}\n",
              "\n",
              "/* Span, style for the box shown on hovering the info icon */\n",
              ".sk-estimator-doc-link span {\n",
              "  display: none;\n",
              "  z-index: 9999;\n",
              "  position: relative;\n",
              "  font-weight: normal;\n",
              "  right: .2ex;\n",
              "  padding: .5ex;\n",
              "  margin: .5ex;\n",
              "  width: min-content;\n",
              "  min-width: 20ex;\n",
              "  max-width: 50ex;\n",
              "  color: var(--sklearn-color-text);\n",
              "  box-shadow: 2pt 2pt 4pt #999;\n",
              "  /* unfitted */\n",
              "  background: var(--sklearn-color-unfitted-level-0);\n",
              "  border: .5pt solid var(--sklearn-color-unfitted-level-3);\n",
              "}\n",
              "\n",
              ".sk-estimator-doc-link.fitted span {\n",
              "  /* fitted */\n",
              "  background: var(--sklearn-color-fitted-level-0);\n",
              "  border: var(--sklearn-color-fitted-level-3);\n",
              "}\n",
              "\n",
              ".sk-estimator-doc-link:hover span {\n",
              "  display: block;\n",
              "}\n",
              "\n",
              "/* \"?\"-specific style due to the `<a>` HTML tag */\n",
              "\n",
              "#sk-container-id-1 a.estimator_doc_link {\n",
              "  float: right;\n",
              "  font-size: 1rem;\n",
              "  line-height: 1em;\n",
              "  font-family: monospace;\n",
              "  background-color: var(--sklearn-color-background);\n",
              "  border-radius: 1rem;\n",
              "  height: 1rem;\n",
              "  width: 1rem;\n",
              "  text-decoration: none;\n",
              "  /* unfitted */\n",
              "  color: var(--sklearn-color-unfitted-level-1);\n",
              "  border: var(--sklearn-color-unfitted-level-1) 1pt solid;\n",
              "}\n",
              "\n",
              "#sk-container-id-1 a.estimator_doc_link.fitted {\n",
              "  /* fitted */\n",
              "  border: var(--sklearn-color-fitted-level-1) 1pt solid;\n",
              "  color: var(--sklearn-color-fitted-level-1);\n",
              "}\n",
              "\n",
              "/* On hover */\n",
              "#sk-container-id-1 a.estimator_doc_link:hover {\n",
              "  /* unfitted */\n",
              "  background-color: var(--sklearn-color-unfitted-level-3);\n",
              "  color: var(--sklearn-color-background);\n",
              "  text-decoration: none;\n",
              "}\n",
              "\n",
              "#sk-container-id-1 a.estimator_doc_link.fitted:hover {\n",
              "  /* fitted */\n",
              "  background-color: var(--sklearn-color-fitted-level-3);\n",
              "}\n",
              "</style><div id=\"sk-container-id-1\" class=\"sk-top-container\"><div class=\"sk-text-repr-fallback\"><pre>KMeans(n_clusters=3, random_state=42)</pre><b>In a Jupyter environment, please rerun this cell to show the HTML representation or trust the notebook. <br />On GitHub, the HTML representation is unable to render, please try loading this page with nbviewer.org.</b></div><div class=\"sk-container\" hidden><div class=\"sk-item\"><div class=\"sk-estimator fitted sk-toggleable\"><input class=\"sk-toggleable__control sk-hidden--visually\" id=\"sk-estimator-id-1\" type=\"checkbox\" checked><label for=\"sk-estimator-id-1\" class=\"sk-toggleable__label fitted sk-toggleable__label-arrow fitted\">&nbsp;&nbsp;KMeans<a class=\"sk-estimator-doc-link fitted\" rel=\"noreferrer\" target=\"_blank\" href=\"https://scikit-learn.org/1.4/modules/generated/sklearn.cluster.KMeans.html\">?<span>Documentation for KMeans</span></a><span class=\"sk-estimator-doc-link fitted\">i<span>Fitted</span></span></label><div class=\"sk-toggleable__content fitted\"><pre>KMeans(n_clusters=3, random_state=42)</pre></div> </div></div></div></div>"
            ],
            "text/plain": [
              "KMeans(n_clusters=3, random_state=42)"
            ]
          },
          "execution_count": 5,
          "metadata": {},
          "output_type": "execute_result"
        }
      ],
      "source": [
        "from sklearn.cluster import KMeans\n",
        "\n",
        "kmeans = KMeans(n_clusters=3, random_state=42)\n",
        "kmeans.fit(X)"
      ]
    },
    {
      "cell_type": "code",
      "execution_count": 7,
      "metadata": {
        "id": "uiCCZFw02fS3"
      },
      "outputs": [
        {
          "data": {
            "text/plain": [
              "array([1, 1, 1, 1, 1, 1, 1, 1, 1, 1, 1, 1, 1, 1, 1, 1, 1, 1, 1, 1, 1, 1,\n",
              "       1, 1, 1, 1, 1, 1, 1, 1, 1, 1, 1, 1, 1, 1, 1, 1, 1, 1, 1, 1, 1, 1,\n",
              "       1, 1, 1, 1, 1, 1, 0, 2, 0, 2, 2, 2, 2, 2, 2, 2, 2, 2, 2, 2, 2, 2,\n",
              "       2, 2, 2, 2, 2, 2, 2, 2, 2, 2, 2, 0, 2, 2, 2, 2, 2, 2, 2, 2, 2, 2,\n",
              "       2, 2, 2, 2, 2, 2, 2, 2, 2, 2, 2, 2, 0, 2, 0, 0, 0, 0, 2, 0, 0, 0,\n",
              "       0, 0, 0, 2, 2, 0, 0, 0, 0, 2, 0, 2, 0, 2, 0, 0, 2, 2, 0, 0, 0, 0,\n",
              "       0, 2, 0, 0, 0, 0, 2, 0, 0, 0, 2, 0, 0, 0, 2, 0, 0, 2])"
            ]
          },
          "execution_count": 7,
          "metadata": {},
          "output_type": "execute_result"
        }
      ],
      "source": [
        "clusters = kmeans.predict(X)\n",
        "clusters\n"
      ]
    },
    {
      "cell_type": "code",
      "execution_count": 8,
      "metadata": {},
      "outputs": [
        {
          "data": {
            "application/vnd.microsoft.datawrangler.viewer.v0+json": {
              "columns": [
                {
                  "name": "index",
                  "rawType": "int64",
                  "type": "integer"
                },
                {
                  "name": "sepal_length",
                  "rawType": "float64",
                  "type": "float"
                },
                {
                  "name": "sepal_width",
                  "rawType": "float64",
                  "type": "float"
                },
                {
                  "name": "petal_length",
                  "rawType": "float64",
                  "type": "float"
                },
                {
                  "name": "petal_width",
                  "rawType": "float64",
                  "type": "float"
                },
                {
                  "name": "class",
                  "rawType": "object",
                  "type": "string"
                },
                {
                  "name": "cluster",
                  "rawType": "int32",
                  "type": "integer"
                }
              ],
              "conversionMethod": "pd.DataFrame",
              "ref": "9db572c7-1afc-4225-8d4b-e772f9de12df",
              "rows": [
                [
                  "0",
                  "5.1",
                  "3.5",
                  "1.4",
                  "0.2",
                  "Iris-setosa",
                  "1"
                ],
                [
                  "1",
                  "4.9",
                  "3.0",
                  "1.4",
                  "0.2",
                  "Iris-setosa",
                  "1"
                ],
                [
                  "2",
                  "4.7",
                  "3.2",
                  "1.3",
                  "0.2",
                  "Iris-setosa",
                  "1"
                ],
                [
                  "3",
                  "4.6",
                  "3.1",
                  "1.5",
                  "0.2",
                  "Iris-setosa",
                  "1"
                ],
                [
                  "4",
                  "5.0",
                  "3.6",
                  "1.4",
                  "0.2",
                  "Iris-setosa",
                  "1"
                ],
                [
                  "5",
                  "5.4",
                  "3.9",
                  "1.7",
                  "0.4",
                  "Iris-setosa",
                  "1"
                ],
                [
                  "6",
                  "4.6",
                  "3.4",
                  "1.4",
                  "0.3",
                  "Iris-setosa",
                  "1"
                ],
                [
                  "7",
                  "5.0",
                  "3.4",
                  "1.5",
                  "0.2",
                  "Iris-setosa",
                  "1"
                ],
                [
                  "8",
                  "4.4",
                  "2.9",
                  "1.4",
                  "0.2",
                  "Iris-setosa",
                  "1"
                ],
                [
                  "9",
                  "4.9",
                  "3.1",
                  "1.5",
                  "0.1",
                  "Iris-setosa",
                  "1"
                ],
                [
                  "10",
                  "5.4",
                  "3.7",
                  "1.5",
                  "0.2",
                  "Iris-setosa",
                  "1"
                ],
                [
                  "11",
                  "4.8",
                  "3.4",
                  "1.6",
                  "0.2",
                  "Iris-setosa",
                  "1"
                ],
                [
                  "12",
                  "4.8",
                  "3.0",
                  "1.4",
                  "0.1",
                  "Iris-setosa",
                  "1"
                ],
                [
                  "13",
                  "4.3",
                  "3.0",
                  "1.1",
                  "0.1",
                  "Iris-setosa",
                  "1"
                ],
                [
                  "14",
                  "5.8",
                  "4.0",
                  "1.2",
                  "0.2",
                  "Iris-setosa",
                  "1"
                ],
                [
                  "15",
                  "5.7",
                  "4.4",
                  "1.5",
                  "0.4",
                  "Iris-setosa",
                  "1"
                ],
                [
                  "16",
                  "5.4",
                  "3.9",
                  "1.3",
                  "0.4",
                  "Iris-setosa",
                  "1"
                ],
                [
                  "17",
                  "5.1",
                  "3.5",
                  "1.4",
                  "0.3",
                  "Iris-setosa",
                  "1"
                ],
                [
                  "18",
                  "5.7",
                  "3.8",
                  "1.7",
                  "0.3",
                  "Iris-setosa",
                  "1"
                ],
                [
                  "19",
                  "5.1",
                  "3.8",
                  "1.5",
                  "0.3",
                  "Iris-setosa",
                  "1"
                ],
                [
                  "20",
                  "5.4",
                  "3.4",
                  "1.7",
                  "0.2",
                  "Iris-setosa",
                  "1"
                ],
                [
                  "21",
                  "5.1",
                  "3.7",
                  "1.5",
                  "0.4",
                  "Iris-setosa",
                  "1"
                ],
                [
                  "22",
                  "4.6",
                  "3.6",
                  "1.0",
                  "0.2",
                  "Iris-setosa",
                  "1"
                ],
                [
                  "23",
                  "5.1",
                  "3.3",
                  "1.7",
                  "0.5",
                  "Iris-setosa",
                  "1"
                ],
                [
                  "24",
                  "4.8",
                  "3.4",
                  "1.9",
                  "0.2",
                  "Iris-setosa",
                  "1"
                ],
                [
                  "25",
                  "5.0",
                  "3.0",
                  "1.6",
                  "0.2",
                  "Iris-setosa",
                  "1"
                ],
                [
                  "26",
                  "5.0",
                  "3.4",
                  "1.6",
                  "0.4",
                  "Iris-setosa",
                  "1"
                ],
                [
                  "27",
                  "5.2",
                  "3.5",
                  "1.5",
                  "0.2",
                  "Iris-setosa",
                  "1"
                ],
                [
                  "28",
                  "5.2",
                  "3.4",
                  "1.4",
                  "0.2",
                  "Iris-setosa",
                  "1"
                ],
                [
                  "29",
                  "4.7",
                  "3.2",
                  "1.6",
                  "0.2",
                  "Iris-setosa",
                  "1"
                ],
                [
                  "30",
                  "4.8",
                  "3.1",
                  "1.6",
                  "0.2",
                  "Iris-setosa",
                  "1"
                ],
                [
                  "31",
                  "5.4",
                  "3.4",
                  "1.5",
                  "0.4",
                  "Iris-setosa",
                  "1"
                ],
                [
                  "32",
                  "5.2",
                  "4.1",
                  "1.5",
                  "0.1",
                  "Iris-setosa",
                  "1"
                ],
                [
                  "33",
                  "5.5",
                  "4.2",
                  "1.4",
                  "0.2",
                  "Iris-setosa",
                  "1"
                ],
                [
                  "34",
                  "4.9",
                  "3.1",
                  "1.5",
                  "0.1",
                  "Iris-setosa",
                  "1"
                ],
                [
                  "35",
                  "5.0",
                  "3.2",
                  "1.2",
                  "0.2",
                  "Iris-setosa",
                  "1"
                ],
                [
                  "36",
                  "5.5",
                  "3.5",
                  "1.3",
                  "0.2",
                  "Iris-setosa",
                  "1"
                ],
                [
                  "37",
                  "4.9",
                  "3.1",
                  "1.5",
                  "0.1",
                  "Iris-setosa",
                  "1"
                ],
                [
                  "38",
                  "4.4",
                  "3.0",
                  "1.3",
                  "0.2",
                  "Iris-setosa",
                  "1"
                ],
                [
                  "39",
                  "5.1",
                  "3.4",
                  "1.5",
                  "0.2",
                  "Iris-setosa",
                  "1"
                ],
                [
                  "40",
                  "5.0",
                  "3.5",
                  "1.3",
                  "0.3",
                  "Iris-setosa",
                  "1"
                ],
                [
                  "41",
                  "4.5",
                  "2.3",
                  "1.3",
                  "0.3",
                  "Iris-setosa",
                  "1"
                ],
                [
                  "42",
                  "4.4",
                  "3.2",
                  "1.3",
                  "0.2",
                  "Iris-setosa",
                  "1"
                ],
                [
                  "43",
                  "5.0",
                  "3.5",
                  "1.6",
                  "0.6",
                  "Iris-setosa",
                  "1"
                ],
                [
                  "44",
                  "5.1",
                  "3.8",
                  "1.9",
                  "0.4",
                  "Iris-setosa",
                  "1"
                ],
                [
                  "45",
                  "4.8",
                  "3.0",
                  "1.4",
                  "0.3",
                  "Iris-setosa",
                  "1"
                ],
                [
                  "46",
                  "5.1",
                  "3.8",
                  "1.6",
                  "0.2",
                  "Iris-setosa",
                  "1"
                ],
                [
                  "47",
                  "4.6",
                  "3.2",
                  "1.4",
                  "0.2",
                  "Iris-setosa",
                  "1"
                ],
                [
                  "48",
                  "5.3",
                  "3.7",
                  "1.5",
                  "0.2",
                  "Iris-setosa",
                  "1"
                ],
                [
                  "49",
                  "5.0",
                  "3.3",
                  "1.4",
                  "0.2",
                  "Iris-setosa",
                  "1"
                ]
              ],
              "shape": {
                "columns": 6,
                "rows": 150
              }
            },
            "text/html": [
              "<div>\n",
              "<style scoped>\n",
              "    .dataframe tbody tr th:only-of-type {\n",
              "        vertical-align: middle;\n",
              "    }\n",
              "\n",
              "    .dataframe tbody tr th {\n",
              "        vertical-align: top;\n",
              "    }\n",
              "\n",
              "    .dataframe thead th {\n",
              "        text-align: right;\n",
              "    }\n",
              "</style>\n",
              "<table border=\"1\" class=\"dataframe\">\n",
              "  <thead>\n",
              "    <tr style=\"text-align: right;\">\n",
              "      <th></th>\n",
              "      <th>sepal_length</th>\n",
              "      <th>sepal_width</th>\n",
              "      <th>petal_length</th>\n",
              "      <th>petal_width</th>\n",
              "      <th>class</th>\n",
              "      <th>cluster</th>\n",
              "    </tr>\n",
              "  </thead>\n",
              "  <tbody>\n",
              "    <tr>\n",
              "      <th>0</th>\n",
              "      <td>5.1</td>\n",
              "      <td>3.5</td>\n",
              "      <td>1.4</td>\n",
              "      <td>0.2</td>\n",
              "      <td>Iris-setosa</td>\n",
              "      <td>1</td>\n",
              "    </tr>\n",
              "    <tr>\n",
              "      <th>1</th>\n",
              "      <td>4.9</td>\n",
              "      <td>3.0</td>\n",
              "      <td>1.4</td>\n",
              "      <td>0.2</td>\n",
              "      <td>Iris-setosa</td>\n",
              "      <td>1</td>\n",
              "    </tr>\n",
              "    <tr>\n",
              "      <th>2</th>\n",
              "      <td>4.7</td>\n",
              "      <td>3.2</td>\n",
              "      <td>1.3</td>\n",
              "      <td>0.2</td>\n",
              "      <td>Iris-setosa</td>\n",
              "      <td>1</td>\n",
              "    </tr>\n",
              "    <tr>\n",
              "      <th>3</th>\n",
              "      <td>4.6</td>\n",
              "      <td>3.1</td>\n",
              "      <td>1.5</td>\n",
              "      <td>0.2</td>\n",
              "      <td>Iris-setosa</td>\n",
              "      <td>1</td>\n",
              "    </tr>\n",
              "    <tr>\n",
              "      <th>4</th>\n",
              "      <td>5.0</td>\n",
              "      <td>3.6</td>\n",
              "      <td>1.4</td>\n",
              "      <td>0.2</td>\n",
              "      <td>Iris-setosa</td>\n",
              "      <td>1</td>\n",
              "    </tr>\n",
              "    <tr>\n",
              "      <th>...</th>\n",
              "      <td>...</td>\n",
              "      <td>...</td>\n",
              "      <td>...</td>\n",
              "      <td>...</td>\n",
              "      <td>...</td>\n",
              "      <td>...</td>\n",
              "    </tr>\n",
              "    <tr>\n",
              "      <th>145</th>\n",
              "      <td>6.7</td>\n",
              "      <td>3.0</td>\n",
              "      <td>5.2</td>\n",
              "      <td>2.3</td>\n",
              "      <td>Iris-virginica</td>\n",
              "      <td>0</td>\n",
              "    </tr>\n",
              "    <tr>\n",
              "      <th>146</th>\n",
              "      <td>6.3</td>\n",
              "      <td>2.5</td>\n",
              "      <td>5.0</td>\n",
              "      <td>1.9</td>\n",
              "      <td>Iris-virginica</td>\n",
              "      <td>2</td>\n",
              "    </tr>\n",
              "    <tr>\n",
              "      <th>147</th>\n",
              "      <td>6.5</td>\n",
              "      <td>3.0</td>\n",
              "      <td>5.2</td>\n",
              "      <td>2.0</td>\n",
              "      <td>Iris-virginica</td>\n",
              "      <td>0</td>\n",
              "    </tr>\n",
              "    <tr>\n",
              "      <th>148</th>\n",
              "      <td>6.2</td>\n",
              "      <td>3.4</td>\n",
              "      <td>5.4</td>\n",
              "      <td>2.3</td>\n",
              "      <td>Iris-virginica</td>\n",
              "      <td>0</td>\n",
              "    </tr>\n",
              "    <tr>\n",
              "      <th>149</th>\n",
              "      <td>5.9</td>\n",
              "      <td>3.0</td>\n",
              "      <td>5.1</td>\n",
              "      <td>1.8</td>\n",
              "      <td>Iris-virginica</td>\n",
              "      <td>2</td>\n",
              "    </tr>\n",
              "  </tbody>\n",
              "</table>\n",
              "<p>150 rows × 6 columns</p>\n",
              "</div>"
            ],
            "text/plain": [
              "     sepal_length  sepal_width  petal_length  petal_width           class  \\\n",
              "0             5.1          3.5           1.4          0.2     Iris-setosa   \n",
              "1             4.9          3.0           1.4          0.2     Iris-setosa   \n",
              "2             4.7          3.2           1.3          0.2     Iris-setosa   \n",
              "3             4.6          3.1           1.5          0.2     Iris-setosa   \n",
              "4             5.0          3.6           1.4          0.2     Iris-setosa   \n",
              "..            ...          ...           ...          ...             ...   \n",
              "145           6.7          3.0           5.2          2.3  Iris-virginica   \n",
              "146           6.3          2.5           5.0          1.9  Iris-virginica   \n",
              "147           6.5          3.0           5.2          2.0  Iris-virginica   \n",
              "148           6.2          3.4           5.4          2.3  Iris-virginica   \n",
              "149           5.9          3.0           5.1          1.8  Iris-virginica   \n",
              "\n",
              "     cluster  \n",
              "0          1  \n",
              "1          1  \n",
              "2          1  \n",
              "3          1  \n",
              "4          1  \n",
              "..       ...  \n",
              "145        0  \n",
              "146        2  \n",
              "147        0  \n",
              "148        0  \n",
              "149        2  \n",
              "\n",
              "[150 rows x 6 columns]"
            ]
          },
          "execution_count": 8,
          "metadata": {},
          "output_type": "execute_result"
        }
      ],
      "source": [
        "df['cluster'] = clusters\n",
        "df"
      ]
    },
    {
      "cell_type": "code",
      "execution_count": 24,
      "metadata": {
        "id": "Wcwf6EJV2wCW"
      },
      "outputs": [
        {
          "data": {
            "text/plain": [
              "({'Iris-virginica': 0, 'Iris-setosa': 1, 'Iris-versicolor': 2},\n",
              " {0: 'Iris-virginica', 1: 'Iris-setosa', 2: 'Iris-versicolor'})"
            ]
          },
          "execution_count": 24,
          "metadata": {},
          "output_type": "execute_result"
        }
      ],
      "source": [
        "import numpy as np\n",
        "\n",
        "# Finds the majority class for each cluster\n",
        "class_to_index = {}\n",
        "index_to_class = {}\n",
        "for cluster in range(3):\n",
        "    cluster_indices = np.where(clusters == cluster)\n",
        "    original_classes = df.loc[cluster_indices, 'class']\n",
        "    most_common = original_classes.mode()[0]\n",
        "    class_to_index[most_common] = cluster\n",
        "    index_to_class[cluster] = most_common\n",
        "\n",
        "class_to_index, index_to_class"
      ]
    },
    {
      "cell_type": "code",
      "execution_count": null,
      "metadata": {},
      "outputs": [
        {
          "data": {
            "application/vnd.microsoft.datawrangler.viewer.v0+json": {
              "columns": [
                {
                  "name": "index",
                  "rawType": "int64",
                  "type": "integer"
                },
                {
                  "name": "sepal_length",
                  "rawType": "float64",
                  "type": "float"
                },
                {
                  "name": "sepal_width",
                  "rawType": "float64",
                  "type": "float"
                },
                {
                  "name": "petal_length",
                  "rawType": "float64",
                  "type": "float"
                },
                {
                  "name": "petal_width",
                  "rawType": "float64",
                  "type": "float"
                },
                {
                  "name": "class",
                  "rawType": "object",
                  "type": "string"
                },
                {
                  "name": "cluster",
                  "rawType": "int32",
                  "type": "integer"
                },
                {
                  "name": "class_index",
                  "rawType": "int32",
                  "type": "integer"
                }
              ],
              "conversionMethod": "pd.DataFrame",
              "ref": "65e69d5f-8313-47f6-b7a1-327d187b2e1a",
              "rows": [
                [
                  "0",
                  "5.1",
                  "3.5",
                  "1.4",
                  "0.2",
                  "Iris-setosa",
                  "1",
                  "1"
                ],
                [
                  "1",
                  "4.9",
                  "3.0",
                  "1.4",
                  "0.2",
                  "Iris-setosa",
                  "1",
                  "1"
                ],
                [
                  "2",
                  "4.7",
                  "3.2",
                  "1.3",
                  "0.2",
                  "Iris-setosa",
                  "1",
                  "1"
                ],
                [
                  "3",
                  "4.6",
                  "3.1",
                  "1.5",
                  "0.2",
                  "Iris-setosa",
                  "1",
                  "1"
                ],
                [
                  "4",
                  "5.0",
                  "3.6",
                  "1.4",
                  "0.2",
                  "Iris-setosa",
                  "1",
                  "1"
                ],
                [
                  "5",
                  "5.4",
                  "3.9",
                  "1.7",
                  "0.4",
                  "Iris-setosa",
                  "1",
                  "1"
                ],
                [
                  "6",
                  "4.6",
                  "3.4",
                  "1.4",
                  "0.3",
                  "Iris-setosa",
                  "1",
                  "1"
                ],
                [
                  "7",
                  "5.0",
                  "3.4",
                  "1.5",
                  "0.2",
                  "Iris-setosa",
                  "1",
                  "1"
                ],
                [
                  "8",
                  "4.4",
                  "2.9",
                  "1.4",
                  "0.2",
                  "Iris-setosa",
                  "1",
                  "1"
                ],
                [
                  "9",
                  "4.9",
                  "3.1",
                  "1.5",
                  "0.1",
                  "Iris-setosa",
                  "1",
                  "1"
                ],
                [
                  "10",
                  "5.4",
                  "3.7",
                  "1.5",
                  "0.2",
                  "Iris-setosa",
                  "1",
                  "1"
                ],
                [
                  "11",
                  "4.8",
                  "3.4",
                  "1.6",
                  "0.2",
                  "Iris-setosa",
                  "1",
                  "1"
                ],
                [
                  "12",
                  "4.8",
                  "3.0",
                  "1.4",
                  "0.1",
                  "Iris-setosa",
                  "1",
                  "1"
                ],
                [
                  "13",
                  "4.3",
                  "3.0",
                  "1.1",
                  "0.1",
                  "Iris-setosa",
                  "1",
                  "1"
                ],
                [
                  "14",
                  "5.8",
                  "4.0",
                  "1.2",
                  "0.2",
                  "Iris-setosa",
                  "1",
                  "1"
                ],
                [
                  "15",
                  "5.7",
                  "4.4",
                  "1.5",
                  "0.4",
                  "Iris-setosa",
                  "1",
                  "1"
                ],
                [
                  "16",
                  "5.4",
                  "3.9",
                  "1.3",
                  "0.4",
                  "Iris-setosa",
                  "1",
                  "1"
                ],
                [
                  "17",
                  "5.1",
                  "3.5",
                  "1.4",
                  "0.3",
                  "Iris-setosa",
                  "1",
                  "1"
                ],
                [
                  "18",
                  "5.7",
                  "3.8",
                  "1.7",
                  "0.3",
                  "Iris-setosa",
                  "1",
                  "1"
                ],
                [
                  "19",
                  "5.1",
                  "3.8",
                  "1.5",
                  "0.3",
                  "Iris-setosa",
                  "1",
                  "1"
                ],
                [
                  "20",
                  "5.4",
                  "3.4",
                  "1.7",
                  "0.2",
                  "Iris-setosa",
                  "1",
                  "1"
                ],
                [
                  "21",
                  "5.1",
                  "3.7",
                  "1.5",
                  "0.4",
                  "Iris-setosa",
                  "1",
                  "1"
                ],
                [
                  "22",
                  "4.6",
                  "3.6",
                  "1.0",
                  "0.2",
                  "Iris-setosa",
                  "1",
                  "1"
                ],
                [
                  "23",
                  "5.1",
                  "3.3",
                  "1.7",
                  "0.5",
                  "Iris-setosa",
                  "1",
                  "1"
                ],
                [
                  "24",
                  "4.8",
                  "3.4",
                  "1.9",
                  "0.2",
                  "Iris-setosa",
                  "1",
                  "1"
                ],
                [
                  "25",
                  "5.0",
                  "3.0",
                  "1.6",
                  "0.2",
                  "Iris-setosa",
                  "1",
                  "1"
                ],
                [
                  "26",
                  "5.0",
                  "3.4",
                  "1.6",
                  "0.4",
                  "Iris-setosa",
                  "1",
                  "1"
                ],
                [
                  "27",
                  "5.2",
                  "3.5",
                  "1.5",
                  "0.2",
                  "Iris-setosa",
                  "1",
                  "1"
                ],
                [
                  "28",
                  "5.2",
                  "3.4",
                  "1.4",
                  "0.2",
                  "Iris-setosa",
                  "1",
                  "1"
                ],
                [
                  "29",
                  "4.7",
                  "3.2",
                  "1.6",
                  "0.2",
                  "Iris-setosa",
                  "1",
                  "1"
                ],
                [
                  "30",
                  "4.8",
                  "3.1",
                  "1.6",
                  "0.2",
                  "Iris-setosa",
                  "1",
                  "1"
                ],
                [
                  "31",
                  "5.4",
                  "3.4",
                  "1.5",
                  "0.4",
                  "Iris-setosa",
                  "1",
                  "1"
                ],
                [
                  "32",
                  "5.2",
                  "4.1",
                  "1.5",
                  "0.1",
                  "Iris-setosa",
                  "1",
                  "1"
                ],
                [
                  "33",
                  "5.5",
                  "4.2",
                  "1.4",
                  "0.2",
                  "Iris-setosa",
                  "1",
                  "1"
                ],
                [
                  "34",
                  "4.9",
                  "3.1",
                  "1.5",
                  "0.1",
                  "Iris-setosa",
                  "1",
                  "1"
                ],
                [
                  "35",
                  "5.0",
                  "3.2",
                  "1.2",
                  "0.2",
                  "Iris-setosa",
                  "1",
                  "1"
                ],
                [
                  "36",
                  "5.5",
                  "3.5",
                  "1.3",
                  "0.2",
                  "Iris-setosa",
                  "1",
                  "1"
                ],
                [
                  "37",
                  "4.9",
                  "3.1",
                  "1.5",
                  "0.1",
                  "Iris-setosa",
                  "1",
                  "1"
                ],
                [
                  "38",
                  "4.4",
                  "3.0",
                  "1.3",
                  "0.2",
                  "Iris-setosa",
                  "1",
                  "1"
                ],
                [
                  "39",
                  "5.1",
                  "3.4",
                  "1.5",
                  "0.2",
                  "Iris-setosa",
                  "1",
                  "1"
                ],
                [
                  "40",
                  "5.0",
                  "3.5",
                  "1.3",
                  "0.3",
                  "Iris-setosa",
                  "1",
                  "1"
                ],
                [
                  "41",
                  "4.5",
                  "2.3",
                  "1.3",
                  "0.3",
                  "Iris-setosa",
                  "1",
                  "1"
                ],
                [
                  "42",
                  "4.4",
                  "3.2",
                  "1.3",
                  "0.2",
                  "Iris-setosa",
                  "1",
                  "1"
                ],
                [
                  "43",
                  "5.0",
                  "3.5",
                  "1.6",
                  "0.6",
                  "Iris-setosa",
                  "1",
                  "1"
                ],
                [
                  "44",
                  "5.1",
                  "3.8",
                  "1.9",
                  "0.4",
                  "Iris-setosa",
                  "1",
                  "1"
                ],
                [
                  "45",
                  "4.8",
                  "3.0",
                  "1.4",
                  "0.3",
                  "Iris-setosa",
                  "1",
                  "1"
                ],
                [
                  "46",
                  "5.1",
                  "3.8",
                  "1.6",
                  "0.2",
                  "Iris-setosa",
                  "1",
                  "1"
                ],
                [
                  "47",
                  "4.6",
                  "3.2",
                  "1.4",
                  "0.2",
                  "Iris-setosa",
                  "1",
                  "1"
                ],
                [
                  "48",
                  "5.3",
                  "3.7",
                  "1.5",
                  "0.2",
                  "Iris-setosa",
                  "1",
                  "1"
                ],
                [
                  "49",
                  "5.0",
                  "3.3",
                  "1.4",
                  "0.2",
                  "Iris-setosa",
                  "1",
                  "1"
                ]
              ],
              "shape": {
                "columns": 7,
                "rows": 150
              }
            },
            "text/html": [
              "<div>\n",
              "<style scoped>\n",
              "    .dataframe tbody tr th:only-of-type {\n",
              "        vertical-align: middle;\n",
              "    }\n",
              "\n",
              "    .dataframe tbody tr th {\n",
              "        vertical-align: top;\n",
              "    }\n",
              "\n",
              "    .dataframe thead th {\n",
              "        text-align: right;\n",
              "    }\n",
              "</style>\n",
              "<table border=\"1\" class=\"dataframe\">\n",
              "  <thead>\n",
              "    <tr style=\"text-align: right;\">\n",
              "      <th></th>\n",
              "      <th>sepal_length</th>\n",
              "      <th>sepal_width</th>\n",
              "      <th>petal_length</th>\n",
              "      <th>petal_width</th>\n",
              "      <th>class</th>\n",
              "      <th>cluster</th>\n",
              "      <th>class_index</th>\n",
              "    </tr>\n",
              "  </thead>\n",
              "  <tbody>\n",
              "    <tr>\n",
              "      <th>0</th>\n",
              "      <td>5.1</td>\n",
              "      <td>3.5</td>\n",
              "      <td>1.4</td>\n",
              "      <td>0.2</td>\n",
              "      <td>Iris-setosa</td>\n",
              "      <td>1</td>\n",
              "      <td>1</td>\n",
              "    </tr>\n",
              "    <tr>\n",
              "      <th>1</th>\n",
              "      <td>4.9</td>\n",
              "      <td>3.0</td>\n",
              "      <td>1.4</td>\n",
              "      <td>0.2</td>\n",
              "      <td>Iris-setosa</td>\n",
              "      <td>1</td>\n",
              "      <td>1</td>\n",
              "    </tr>\n",
              "    <tr>\n",
              "      <th>2</th>\n",
              "      <td>4.7</td>\n",
              "      <td>3.2</td>\n",
              "      <td>1.3</td>\n",
              "      <td>0.2</td>\n",
              "      <td>Iris-setosa</td>\n",
              "      <td>1</td>\n",
              "      <td>1</td>\n",
              "    </tr>\n",
              "    <tr>\n",
              "      <th>3</th>\n",
              "      <td>4.6</td>\n",
              "      <td>3.1</td>\n",
              "      <td>1.5</td>\n",
              "      <td>0.2</td>\n",
              "      <td>Iris-setosa</td>\n",
              "      <td>1</td>\n",
              "      <td>1</td>\n",
              "    </tr>\n",
              "    <tr>\n",
              "      <th>4</th>\n",
              "      <td>5.0</td>\n",
              "      <td>3.6</td>\n",
              "      <td>1.4</td>\n",
              "      <td>0.2</td>\n",
              "      <td>Iris-setosa</td>\n",
              "      <td>1</td>\n",
              "      <td>1</td>\n",
              "    </tr>\n",
              "    <tr>\n",
              "      <th>...</th>\n",
              "      <td>...</td>\n",
              "      <td>...</td>\n",
              "      <td>...</td>\n",
              "      <td>...</td>\n",
              "      <td>...</td>\n",
              "      <td>...</td>\n",
              "      <td>...</td>\n",
              "    </tr>\n",
              "    <tr>\n",
              "      <th>145</th>\n",
              "      <td>6.7</td>\n",
              "      <td>3.0</td>\n",
              "      <td>5.2</td>\n",
              "      <td>2.3</td>\n",
              "      <td>Iris-virginica</td>\n",
              "      <td>0</td>\n",
              "      <td>0</td>\n",
              "    </tr>\n",
              "    <tr>\n",
              "      <th>146</th>\n",
              "      <td>6.3</td>\n",
              "      <td>2.5</td>\n",
              "      <td>5.0</td>\n",
              "      <td>1.9</td>\n",
              "      <td>Iris-virginica</td>\n",
              "      <td>2</td>\n",
              "      <td>0</td>\n",
              "    </tr>\n",
              "    <tr>\n",
              "      <th>147</th>\n",
              "      <td>6.5</td>\n",
              "      <td>3.0</td>\n",
              "      <td>5.2</td>\n",
              "      <td>2.0</td>\n",
              "      <td>Iris-virginica</td>\n",
              "      <td>0</td>\n",
              "      <td>0</td>\n",
              "    </tr>\n",
              "    <tr>\n",
              "      <th>148</th>\n",
              "      <td>6.2</td>\n",
              "      <td>3.4</td>\n",
              "      <td>5.4</td>\n",
              "      <td>2.3</td>\n",
              "      <td>Iris-virginica</td>\n",
              "      <td>0</td>\n",
              "      <td>0</td>\n",
              "    </tr>\n",
              "    <tr>\n",
              "      <th>149</th>\n",
              "      <td>5.9</td>\n",
              "      <td>3.0</td>\n",
              "      <td>5.1</td>\n",
              "      <td>1.8</td>\n",
              "      <td>Iris-virginica</td>\n",
              "      <td>2</td>\n",
              "      <td>0</td>\n",
              "    </tr>\n",
              "  </tbody>\n",
              "</table>\n",
              "<p>150 rows × 7 columns</p>\n",
              "</div>"
            ],
            "text/plain": [
              "     sepal_length  sepal_width  petal_length  petal_width           class  \\\n",
              "0             5.1          3.5           1.4          0.2     Iris-setosa   \n",
              "1             4.9          3.0           1.4          0.2     Iris-setosa   \n",
              "2             4.7          3.2           1.3          0.2     Iris-setosa   \n",
              "3             4.6          3.1           1.5          0.2     Iris-setosa   \n",
              "4             5.0          3.6           1.4          0.2     Iris-setosa   \n",
              "..            ...          ...           ...          ...             ...   \n",
              "145           6.7          3.0           5.2          2.3  Iris-virginica   \n",
              "146           6.3          2.5           5.0          1.9  Iris-virginica   \n",
              "147           6.5          3.0           5.2          2.0  Iris-virginica   \n",
              "148           6.2          3.4           5.4          2.3  Iris-virginica   \n",
              "149           5.9          3.0           5.1          1.8  Iris-virginica   \n",
              "\n",
              "     cluster  class_index  \n",
              "0          1            1  \n",
              "1          1            1  \n",
              "2          1            1  \n",
              "3          1            1  \n",
              "4          1            1  \n",
              "..       ...          ...  \n",
              "145        0            0  \n",
              "146        2            0  \n",
              "147        0            0  \n",
              "148        0            0  \n",
              "149        2            0  \n",
              "\n",
              "[150 rows x 7 columns]"
            ]
          },
          "execution_count": 14,
          "metadata": {},
          "output_type": "execute_result"
        }
      ],
      "source": [
        "df['class_index'] = df['class'].apply(lambda x: class_to_index[x])\n",
        "df"
      ]
    },
    {
      "cell_type": "code",
      "execution_count": 20,
      "metadata": {},
      "outputs": [
        {
          "data": {
            "text/plain": [
              "0.8866666666666667"
            ]
          },
          "execution_count": 20,
          "metadata": {},
          "output_type": "execute_result"
        }
      ],
      "source": [
        "# Calculates the accuracy\n",
        "accuracy = np.mean(df['class_index'] == df['cluster'])\n",
        "accuracy"
      ]
    },
    {
      "cell_type": "code",
      "execution_count": 16,
      "metadata": {
        "id": "CO29Izm825Ju"
      },
      "outputs": [],
      "source": [
        "# Select two features for visualization\n",
        "feature_x = df.columns[0]\n",
        "feature_y = df.columns[1]"
      ]
    },
    {
      "cell_type": "code",
      "execution_count": 22,
      "metadata": {},
      "outputs": [
        {
          "data": {
            "image/png": "[encoded data removed]",
            "text/plain": [
              "<Figure size 640x480 with 1 Axes>"
            ]
          },
          "metadata": {},
          "output_type": "display_data"
        }
      ],
      "source": [
        "import matplotlib.pyplot as plt\n",
        "\n",
        "for i in range(3):\n",
        "    plt.scatter(df[df['class_index'] == i][feature_x], df[df['class_index'] == i][feature_y], label=index_to_class[i])\n",
        "\n",
        "plt.title('Original Data')\n",
        "plt.xlabel(df.columns[0])\n",
        "plt.ylabel(df.columns[0])\n",
        "plt.legend()\n",
        "plt.show()"
      ]
    },
    {
      "cell_type": "code",
      "execution_count": 23,
      "metadata": {},
      "outputs": [
        {
          "data": {
            "image/png": "[encoded data removed]",
            "text/plain": [
              "<Figure size 640x480 with 1 Axes>"
            ]
          },
          "metadata": {},
          "output_type": "display_data"
        }
      ],
      "source": [
        "import matplotlib.pyplot as plt\n",
        "\n",
        "for i in range(3):\n",
        "    plt.scatter(df[df['cluster'] == i][feature_x], df[df['cluster'] == i][feature_y], label=index_to_class[i])\n",
        "\n",
        "plt.title('K-Means Clustered Data')\n",
        "plt.xlabel(df.columns[0])\n",
        "plt.ylabel(df.columns[0])\n",
        "plt.legend()\n",
        "plt.show()"
      ]
    }
  ],
  "metadata": {
    "colab": {
      "provenance": []
    },
    "kernelspec": {
      "display_name": ".venv",
      "language": "python",
      "name": "python3"
    },
    "language_info": {
      "codemirror_mode": {
        "name": "ipython",
        "version": 3
      },
      "file_extension": ".py",
      "mimetype": "text/x-python",
      "name": "python",
      "nbconvert_exporter": "python",
      "pygments_lexer": "ipython3",
      "version": "3.11.0"
    }
  },
  "nbformat": 4,
  "nbformat_minor": 0
}

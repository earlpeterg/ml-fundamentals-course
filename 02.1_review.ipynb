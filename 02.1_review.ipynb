{
 "cells": [
  {
   "cell_type": "markdown",
   "metadata": {},
   "source": [
    "## Python Review (Part 1)\n",
    "\n",
    "### Reading CSV with Pandas\n",
    "\n",
    "A simple way to store big data sets is to use CSV files (comma separated values).\n",
    "\n",
    "To load the CSV into a DataFrame, use read_csv() function.\n",
    "\n",
    "Syntax: `pd.read_csv(filepath, sep=' ,' , header='infer'…)`"
   ]
  },
  {
   "cell_type": "code",
   "execution_count": 2,
   "metadata": {},
   "outputs": [],
   "source": [
    "import pandas as pd\n",
    "import matplotlib.pyplot as plt\n",
    "import numpy as np"
   ]
  },
  {
   "cell_type": "code",
   "execution_count": 3,
   "metadata": {},
   "outputs": [
    {
     "data": {
      "text/html": [
       "<div>\n",
       "<style scoped>\n",
       "    .dataframe tbody tr th:only-of-type {\n",
       "        vertical-align: middle;\n",
       "    }\n",
       "\n",
       "    .dataframe tbody tr th {\n",
       "        vertical-align: top;\n",
       "    }\n",
       "\n",
       "    .dataframe thead th {\n",
       "        text-align: right;\n",
       "    }\n",
       "</style>\n",
       "<table border=\"1\" class=\"dataframe\">\n",
       "  <thead>\n",
       "    <tr style=\"text-align: right;\">\n",
       "      <th></th>\n",
       "      <th>Duration</th>\n",
       "      <th>Date</th>\n",
       "      <th>Pulse</th>\n",
       "      <th>Maxpulse</th>\n",
       "      <th>Calories</th>\n",
       "    </tr>\n",
       "  </thead>\n",
       "  <tbody>\n",
       "    <tr>\n",
       "      <th>0</th>\n",
       "      <td>60</td>\n",
       "      <td>'2020/12/01'</td>\n",
       "      <td>110</td>\n",
       "      <td>130</td>\n",
       "      <td>409.1</td>\n",
       "    </tr>\n",
       "    <tr>\n",
       "      <th>1</th>\n",
       "      <td>60</td>\n",
       "      <td>'2020/12/02'</td>\n",
       "      <td>117</td>\n",
       "      <td>145</td>\n",
       "      <td>479.0</td>\n",
       "    </tr>\n",
       "    <tr>\n",
       "      <th>2</th>\n",
       "      <td>60</td>\n",
       "      <td>'2020/12/03'</td>\n",
       "      <td>103</td>\n",
       "      <td>135</td>\n",
       "      <td>340.0</td>\n",
       "    </tr>\n",
       "    <tr>\n",
       "      <th>3</th>\n",
       "      <td>45</td>\n",
       "      <td>'2020/12/04'</td>\n",
       "      <td>109</td>\n",
       "      <td>175</td>\n",
       "      <td>282.4</td>\n",
       "    </tr>\n",
       "    <tr>\n",
       "      <th>4</th>\n",
       "      <td>45</td>\n",
       "      <td>'2020/12/05'</td>\n",
       "      <td>117</td>\n",
       "      <td>148</td>\n",
       "      <td>406.0</td>\n",
       "    </tr>\n",
       "  </tbody>\n",
       "</table>\n",
       "</div>"
      ],
      "text/plain": [
       "   Duration          Date  Pulse  Maxpulse  Calories\n",
       "0        60  '2020/12/01'    110       130     409.1\n",
       "1        60  '2020/12/02'    117       145     479.0\n",
       "2        60  '2020/12/03'    103       135     340.0\n",
       "3        45  '2020/12/04'    109       175     282.4\n",
       "4        45  '2020/12/05'    117       148     406.0"
      ]
     },
     "execution_count": 3,
     "metadata": {},
     "output_type": "execute_result"
    }
   ],
   "source": [
    "# Read CSV\n",
    "df = pd.read_csv('datasets/calories_dirty.csv')\n",
    "# Display first 5 items\n",
    "df.head(5)"
   ]
  },
  {
   "cell_type": "code",
   "execution_count": 5,
   "metadata": {},
   "outputs": [
    {
     "data": {
      "text/html": [
       "<div>\n",
       "<style scoped>\n",
       "    .dataframe tbody tr th:only-of-type {\n",
       "        vertical-align: middle;\n",
       "    }\n",
       "\n",
       "    .dataframe tbody tr th {\n",
       "        vertical-align: top;\n",
       "    }\n",
       "\n",
       "    .dataframe thead th {\n",
       "        text-align: right;\n",
       "    }\n",
       "</style>\n",
       "<table border=\"1\" class=\"dataframe\">\n",
       "  <thead>\n",
       "    <tr style=\"text-align: right;\">\n",
       "      <th></th>\n",
       "      <th>Duration</th>\n",
       "      <th>Date</th>\n",
       "      <th>Pulse</th>\n",
       "      <th>Maxpulse</th>\n",
       "      <th>Calories</th>\n",
       "    </tr>\n",
       "  </thead>\n",
       "  <tbody>\n",
       "    <tr>\n",
       "      <th>1</th>\n",
       "      <td>60</td>\n",
       "      <td>'2020/12/02'</td>\n",
       "      <td>117</td>\n",
       "      <td>145</td>\n",
       "      <td>479.0</td>\n",
       "    </tr>\n",
       "    <tr>\n",
       "      <th>2</th>\n",
       "      <td>60</td>\n",
       "      <td>'2020/12/03'</td>\n",
       "      <td>103</td>\n",
       "      <td>135</td>\n",
       "      <td>340.0</td>\n",
       "    </tr>\n",
       "    <tr>\n",
       "      <th>3</th>\n",
       "      <td>45</td>\n",
       "      <td>'2020/12/04'</td>\n",
       "      <td>109</td>\n",
       "      <td>175</td>\n",
       "      <td>282.4</td>\n",
       "    </tr>\n",
       "    <tr>\n",
       "      <th>4</th>\n",
       "      <td>45</td>\n",
       "      <td>'2020/12/05'</td>\n",
       "      <td>117</td>\n",
       "      <td>148</td>\n",
       "      <td>406.0</td>\n",
       "    </tr>\n",
       "  </tbody>\n",
       "</table>\n",
       "</div>"
      ],
      "text/plain": [
       "   Duration          Date  Pulse  Maxpulse  Calories\n",
       "1        60  '2020/12/02'    117       145     479.0\n",
       "2        60  '2020/12/03'    103       135     340.0\n",
       "3        45  '2020/12/04'    109       175     282.4\n",
       "4        45  '2020/12/05'    117       148     406.0"
      ]
     },
     "execution_count": 5,
     "metadata": {},
     "output_type": "execute_result"
    }
   ],
   "source": [
    "# Selects a single row at index 1\n",
    "df.iloc[1]\n",
    "\n",
    "# Selects multiple rows from index 1 to 4 (5 is exclusive).\n",
    "df.iloc[1:5]"
   ]
  },
  {
   "cell_type": "code",
   "execution_count": 104,
   "metadata": {},
   "outputs": [],
   "source": [
    "# Display last 5 items\n",
    "df.tail(5)"
   ]
  },
  {
   "cell_type": "markdown",
   "metadata": {},
   "source": [
    "### Cleaning Up Data\n",
    "\n",
    "Data cleaning means fixing bad data in your data set. Bad data could be any of the following:\n",
    "\n",
    "- Empty cells: `.dropna(…)` or `.fillna(…)`\n",
    "- Duplicates: `.drop_duplicates()`\n",
    "- Data in wrong format\n",
    "- Wrong data"
   ]
  },
  {
   "cell_type": "code",
   "execution_count": 105,
   "metadata": {},
   "outputs": [],
   "source": [
    "# Drop cells with empty/missing values\n",
    "df1 = df.dropna(axis=0)\n",
    "df1.shape"
   ]
  },
  {
   "cell_type": "code",
   "execution_count": 106,
   "metadata": {},
   "outputs": [],
   "source": [
    "df[\"Calories\"].fillna(df[\"Calories\"].mean())"
   ]
  },
  {
   "cell_type": "code",
   "execution_count": 107,
   "metadata": {},
   "outputs": [],
   "source": [
    "# Remove the duplicates\n",
    "df2 = df1.drop_duplicates()\n",
    "df2.shape"
   ]
  },
  {
   "cell_type": "markdown",
   "metadata": {},
   "source": [
    "### Descriptive Statistics\n",
    "\n",
    "A large number of methods collectively compute descriptive statistics and other related operations on DataFrame.\n",
    "\n",
    "DataFrame − “index” (axis=0, default), “columns” (axis=1)\n",
    "\n",
    "Common aggregate functions:\n",
    "\n",
    "- `count()`\n",
    "- `sum()` and `prod()`\n",
    "- `mean()`, `median()`, and `mode()`\n",
    "- `min()` and `max()`\n",
    "- `describe()`"
   ]
  },
  {
   "cell_type": "code",
   "execution_count": 108,
   "metadata": {},
   "outputs": [],
   "source": [
    "df2.describe()"
   ]
  },
  {
   "cell_type": "code",
   "execution_count": 109,
   "metadata": {},
   "outputs": [],
   "source": [
    "# Mean of Pulse\n",
    "mean_pulse = df2[\"Pulse\"].mean()\n",
    "print(mean_pulse)"
   ]
  },
  {
   "cell_type": "code",
   "execution_count": 110,
   "metadata": {},
   "outputs": [],
   "source": [
    "q3_pulse = df2[\"Pulse\"].quantile(0.75)\n",
    "q3_pulse"
   ]
  },
  {
   "cell_type": "markdown",
   "metadata": {},
   "source": [
    "### Filter By Column\n",
    "\n",
    "`df['column_name'] == some_value` returns a boolean array\n",
    "\n",
    "`df[ <pass a boolean array to filter> ]`"
   ]
  },
  {
   "cell_type": "code",
   "execution_count": 111,
   "metadata": {},
   "outputs": [],
   "source": [
    "df['Pulse'] >= q3_pulse"
   ]
  },
  {
   "cell_type": "code",
   "execution_count": 112,
   "metadata": {},
   "outputs": [],
   "source": [
    "df[df['Pulse'] >= 100]"
   ]
  },
  {
   "cell_type": "code",
   "execution_count": 113,
   "metadata": {},
   "outputs": [],
   "source": [
    "df2[[True, True, True, False, True, True, True, False, True, True, True, False, True, True, True, False, True, True, True, False, True, True, True, False, True, True, True, False]]"
   ]
  },
  {
   "cell_type": "markdown",
   "metadata": {},
   "source": [
    "#### Multiple Queries\n",
    "\n",
    "    (query) & (query)\n",
    "    (query) | (query)\n",
    "    ~(query)\n",
    "\n",
    "NOTE: the (parenthesis) is important!"
   ]
  },
  {
   "cell_type": "code",
   "execution_count": 114,
   "metadata": {},
   "outputs": [],
   "source": [
    "# Filter greater than 130 but less than 170\n",
    "df2[(df2[\"Maxpulse\"] >= 130) & (df2[\"Maxpulse\"] <= 170)]"
   ]
  },
  {
   "cell_type": "code",
   "execution_count": 115,
   "metadata": {},
   "outputs": [],
   "source": [
    "# Cleanup the last problematic column\n",
    "# Duration should be >= 30 but <= 60\n",
    "df3 = df2[(df2[\"Duration\"] >= 30) & (df2[\"Duration\"] <= 60)]\n",
    "df3"
   ]
  },
  {
   "cell_type": "markdown",
   "metadata": {},
   "source": [
    "### Matplotlib\n",
    "\n",
    "`.plot(kind=kind)` has several optional parameters:\n",
    "\n",
    "- \"area\" is for area plots.\n",
    "- \"bar\" is for vertical bar charts.\n",
    "- \"barh\" is for horizontal bar charts.\n",
    "- \"box\" is for box plots.\n",
    "- \"hexbin\" is for hexbin plots.\n",
    "- \"hist\" is for histograms.\n",
    "- \"kde\" is for kernel density estimate charts.\n",
    "- \"density\" is an alias for \"kde\".\n",
    "- \"line\" is for line graphs (the default).\n",
    "- \"pie\" is for pie charts.\n",
    "- \"scatter\" is for scatter plots."
   ]
  },
  {
   "cell_type": "code",
   "execution_count": 125,
   "metadata": {},
   "outputs": [],
   "source": [
    "plt.scatter(df[\"Pulse\"], df[\"Calories\"])\n",
    "plt.show()"
   ]
  },
  {
   "cell_type": "code",
   "execution_count": null,
   "metadata": {},
   "outputs": [],
   "source": [
    "plt.boxplot(df3[\"Pulse\"], vert=False)\n",
    "plt.show()"
   ]
  },
  {
   "cell_type": "code",
   "execution_count": 126,
   "metadata": {},
   "outputs": [
    {
     "data": {
      "image/png": "[encoded data removed]",
      "text/plain": [
       "<Figure size 640x480 with 1 Axes>"
      ]
     },
     "metadata": {},
     "output_type": "display_data"
    }
   ],
   "source": [
    "plt.hist(df3[\"Pulse\"])\n",
    "plt.show()"
   ]
  },
  {
   "cell_type": "code",
   "execution_count": 144,
   "metadata": {},
   "outputs": [
    {
     "data": {
      "text/html": [
       "<div>\n",
       "<style scoped>\n",
       "    .dataframe tbody tr th:only-of-type {\n",
       "        vertical-align: middle;\n",
       "    }\n",
       "\n",
       "    .dataframe tbody tr th {\n",
       "        vertical-align: top;\n",
       "    }\n",
       "\n",
       "    .dataframe thead th {\n",
       "        text-align: right;\n",
       "    }\n",
       "</style>\n",
       "<table border=\"1\" class=\"dataframe\">\n",
       "  <thead>\n",
       "    <tr style=\"text-align: right;\">\n",
       "      <th></th>\n",
       "      <th>number</th>\n",
       "      <th>first_name</th>\n",
       "      <th>last_name</th>\n",
       "      <th>gender</th>\n",
       "      <th>birth_date</th>\n",
       "      <th>employment_status</th>\n",
       "      <th>annual_salary</th>\n",
       "    </tr>\n",
       "  </thead>\n",
       "  <tbody>\n",
       "    <tr>\n",
       "      <th>0</th>\n",
       "      <td>483</td>\n",
       "      <td>Lenord</td>\n",
       "      <td>Kihn</td>\n",
       "      <td>M</td>\n",
       "      <td>1994-07-01</td>\n",
       "      <td>Full Time</td>\n",
       "      <td>64598</td>\n",
       "    </tr>\n",
       "    <tr>\n",
       "      <th>1</th>\n",
       "      <td>478</td>\n",
       "      <td>Palma</td>\n",
       "      <td>Beahan</td>\n",
       "      <td>F</td>\n",
       "      <td>1972-05-06</td>\n",
       "      <td>Full Time</td>\n",
       "      <td>124103</td>\n",
       "    </tr>\n",
       "    <tr>\n",
       "      <th>2</th>\n",
       "      <td>348</td>\n",
       "      <td>Hebert</td>\n",
       "      <td>Muller</td>\n",
       "      <td>M</td>\n",
       "      <td>1990-09-04</td>\n",
       "      <td>Full Time</td>\n",
       "      <td>100324</td>\n",
       "    </tr>\n",
       "    <tr>\n",
       "      <th>3</th>\n",
       "      <td>757</td>\n",
       "      <td>Virginia</td>\n",
       "      <td>Ullrich</td>\n",
       "      <td>M</td>\n",
       "      <td>1991-09-23</td>\n",
       "      <td>Full Time</td>\n",
       "      <td>144957</td>\n",
       "    </tr>\n",
       "    <tr>\n",
       "      <th>4</th>\n",
       "      <td>937</td>\n",
       "      <td>Roby</td>\n",
       "      <td>Hudson</td>\n",
       "      <td>M</td>\n",
       "      <td>1997-01-15</td>\n",
       "      <td>Full Time</td>\n",
       "      <td>137659</td>\n",
       "    </tr>\n",
       "    <tr>\n",
       "      <th>...</th>\n",
       "      <td>...</td>\n",
       "      <td>...</td>\n",
       "      <td>...</td>\n",
       "      <td>...</td>\n",
       "      <td>...</td>\n",
       "      <td>...</td>\n",
       "      <td>...</td>\n",
       "    </tr>\n",
       "    <tr>\n",
       "      <th>994</th>\n",
       "      <td>712</td>\n",
       "      <td>Dann</td>\n",
       "      <td>Crooks</td>\n",
       "      <td>M</td>\n",
       "      <td>1983-12-25</td>\n",
       "      <td>Part Time</td>\n",
       "      <td>66592</td>\n",
       "    </tr>\n",
       "    <tr>\n",
       "      <th>995</th>\n",
       "      <td>132</td>\n",
       "      <td>Maxim</td>\n",
       "      <td>Orn</td>\n",
       "      <td>M</td>\n",
       "      <td>1971-03-01</td>\n",
       "      <td>Part Time</td>\n",
       "      <td>127966</td>\n",
       "    </tr>\n",
       "    <tr>\n",
       "      <th>996</th>\n",
       "      <td>126</td>\n",
       "      <td>Kimberli</td>\n",
       "      <td>Walter</td>\n",
       "      <td>M</td>\n",
       "      <td>1976-03-07</td>\n",
       "      <td>Part Time</td>\n",
       "      <td>60712</td>\n",
       "    </tr>\n",
       "    <tr>\n",
       "      <th>997</th>\n",
       "      <td>277</td>\n",
       "      <td>Talmage</td>\n",
       "      <td>Bartell</td>\n",
       "      <td>F</td>\n",
       "      <td>1989-02-19</td>\n",
       "      <td>Full Time</td>\n",
       "      <td>103606</td>\n",
       "    </tr>\n",
       "    <tr>\n",
       "      <th>998</th>\n",
       "      <td>960</td>\n",
       "      <td>Laurie</td>\n",
       "      <td>Nienow</td>\n",
       "      <td>M</td>\n",
       "      <td>1993-04-01</td>\n",
       "      <td>Full Time</td>\n",
       "      <td>127405</td>\n",
       "    </tr>\n",
       "  </tbody>\n",
       "</table>\n",
       "<p>999 rows × 7 columns</p>\n",
       "</div>"
      ],
      "text/plain": [
       "     number first_name last_name gender  birth_date employment_status  \\\n",
       "0       483     Lenord      Kihn      M  1994-07-01         Full Time   \n",
       "1       478      Palma    Beahan      F  1972-05-06         Full Time   \n",
       "2       348     Hebert    Muller      M  1990-09-04         Full Time   \n",
       "3       757   Virginia   Ullrich      M  1991-09-23         Full Time   \n",
       "4       937       Roby    Hudson      M  1997-01-15         Full Time   \n",
       "..      ...        ...       ...    ...         ...               ...   \n",
       "994     712       Dann    Crooks      M  1983-12-25         Part Time   \n",
       "995     132      Maxim       Orn      M  1971-03-01         Part Time   \n",
       "996     126   Kimberli    Walter      M  1976-03-07         Part Time   \n",
       "997     277    Talmage   Bartell      F  1989-02-19         Full Time   \n",
       "998     960     Laurie    Nienow      M  1993-04-01         Full Time   \n",
       "\n",
       "     annual_salary  \n",
       "0            64598  \n",
       "1           124103  \n",
       "2           100324  \n",
       "3           144957  \n",
       "4           137659  \n",
       "..             ...  \n",
       "994          66592  \n",
       "995         127966  \n",
       "996          60712  \n",
       "997         103606  \n",
       "998         127405  \n",
       "\n",
       "[999 rows x 7 columns]"
      ]
     },
     "execution_count": 144,
     "metadata": {},
     "output_type": "execute_result"
    }
   ],
   "source": [
    "df4 = pd.read_csv('datasets/employees.csv')\n",
    "df4"
   ]
  },
  {
   "cell_type": "code",
   "execution_count": 150,
   "metadata": {},
   "outputs": [
    {
     "data": {
      "text/plain": [
       "(620, 7)"
      ]
     },
     "execution_count": 150,
     "metadata": {},
     "output_type": "execute_result"
    }
   ],
   "source": [
    "df5 = df4[df4[\"gender\"] == \"M\"]\n",
    "df5.shape"
   ]
  },
  {
   "cell_type": "code",
   "execution_count": 151,
   "metadata": {},
   "outputs": [
    {
     "data": {
      "text/plain": [
       "(379, 7)"
      ]
     },
     "execution_count": 151,
     "metadata": {},
     "output_type": "execute_result"
    }
   ],
   "source": [
    "df6 = df4[df4[\"gender\"] == \"F\"]\n",
    "df6.shape"
   ]
  },
  {
   "cell_type": "code",
   "execution_count": 154,
   "metadata": {},
   "outputs": [
    {
     "data": {
      "image/png": "[encoded data removed]",
      "text/plain": [
       "<Figure size 640x480 with 1 Axes>"
      ]
     },
     "metadata": {},
     "output_type": "display_data"
    }
   ],
   "source": [
    "plt.hist(df5[\"annual_salary\"], alpha=0.5, density=True, label=\"M\")\n",
    "plt.hist(df6[\"annual_salary\"], alpha=0.5, density=True, label=\"F\")\n",
    "plt.legend(loc='lower right')\n",
    "plt.show()"
   ]
  }
 ],
 "metadata": {
  "kernelspec": {
   "display_name": ".venv",
   "language": "python",
   "name": "python3"
  },
  "language_info": {
   "codemirror_mode": {
    "name": "ipython",
    "version": 3
   },
   "file_extension": ".py",
   "mimetype": "text/x-python",
   "name": "python",
   "nbconvert_exporter": "python",
   "pygments_lexer": "ipython3",
   "version": "3.11.0"
  }
 },
 "nbformat": 4,
 "nbformat_minor": 2
}
